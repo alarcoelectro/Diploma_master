{
 "cells": [
  {
   "cell_type": "code",
   "execution_count": 4,
   "metadata": {},
   "outputs": [
    {
     "ename": "AttributeError",
     "evalue": "module 'pandas' has no attribute 'plotting'",
     "output_type": "error",
     "traceback": [
      "\u001b[1;31m---------------------------------------------------------------------------\u001b[0m",
      "\u001b[1;31mAttributeError\u001b[0m                            Traceback (most recent call last)",
      "\u001b[1;32m<ipython-input-4-eceffa625451>\u001b[0m in \u001b[0;36m<module>\u001b[1;34m()\u001b[0m\n\u001b[0;32m      1\u001b[0m \u001b[1;32mimport\u001b[0m \u001b[0mnumpy\u001b[0m \u001b[1;32mas\u001b[0m \u001b[0mnp\u001b[0m\u001b[1;33m\u001b[0m\u001b[0m\n\u001b[1;32m----> 2\u001b[1;33m \u001b[1;32mimport\u001b[0m \u001b[0mpandas\u001b[0m \u001b[1;32mas\u001b[0m \u001b[0mpd\u001b[0m\u001b[1;33m\u001b[0m\u001b[0m\n\u001b[0m\u001b[0;32m      3\u001b[0m \u001b[1;32mimport\u001b[0m \u001b[0mtime\u001b[0m\u001b[1;33m\u001b[0m\u001b[0m\n\u001b[0;32m      4\u001b[0m \u001b[1;32mimport\u001b[0m \u001b[0mscipy\u001b[0m\u001b[1;33m\u001b[0m\u001b[0m\n\u001b[0;32m      5\u001b[0m \u001b[1;32mimport\u001b[0m \u001b[0mitertools\u001b[0m\u001b[1;33m\u001b[0m\u001b[0m\n",
      "\u001b[1;32mC:\\ProgramData\\Anaconda3\\lib\\site-packages\\pandas\\__init__.py\u001b[0m in \u001b[0;36m<module>\u001b[1;34m()\u001b[0m\n\u001b[0;32m     49\u001b[0m \u001b[1;31m# deprecate tools.plotting, plot_params and scatter_matrix on the top namespace\u001b[0m\u001b[1;33m\u001b[0m\u001b[1;33m\u001b[0m\u001b[0m\n\u001b[0;32m     50\u001b[0m \u001b[1;32mimport\u001b[0m \u001b[0mpandas\u001b[0m\u001b[1;33m.\u001b[0m\u001b[0mtools\u001b[0m\u001b[1;33m.\u001b[0m\u001b[0mplotting\u001b[0m\u001b[1;33m\u001b[0m\u001b[0m\n\u001b[1;32m---> 51\u001b[1;33m \u001b[0mplot_params\u001b[0m \u001b[1;33m=\u001b[0m \u001b[0mpandas\u001b[0m\u001b[1;33m.\u001b[0m\u001b[0mplotting\u001b[0m\u001b[1;33m.\u001b[0m\u001b[0m_style\u001b[0m\u001b[1;33m.\u001b[0m\u001b[0m_Options\u001b[0m\u001b[1;33m(\u001b[0m\u001b[0mdeprecated\u001b[0m\u001b[1;33m=\u001b[0m\u001b[1;32mTrue\u001b[0m\u001b[1;33m)\u001b[0m\u001b[1;33m\u001b[0m\u001b[0m\n\u001b[0m\u001b[0;32m     52\u001b[0m \u001b[1;31m# do not import deprecate to top namespace\u001b[0m\u001b[1;33m\u001b[0m\u001b[1;33m\u001b[0m\u001b[0m\n\u001b[0;32m     53\u001b[0m scatter_matrix = pandas.util._decorators.deprecate(\n",
      "\u001b[1;31mAttributeError\u001b[0m: module 'pandas' has no attribute 'plotting'"
     ]
    }
   ],
   "source": [
    "import numpy as np\n",
    "import pandas as pd\n",
    "import time\n",
    "import scipy\n",
    "import itertools\n",
    "import seaborn as sns\n",
    "import os\n",
    "import itertools\n",
    "\n",
    "import importlib.util\n",
    "import sklearn.datasets\n",
    "import matplotlib.pyplot as plt\n",
    "import numpy.linalg as la\n",
    "\n",
    "from sklearn.datasets import load_svmlight_file\n",
    "from helpers import get_solution, read_logs, run_local_sgd\n",
    "from np_functions import logreg_loss as single_point_loss\n",
    "\n",
    "sns.set(style=\"whitegrid\", context=\"talk\", font_scale=1.2)\n",
    "%load_ext autoreload\n",
    "%autoreload 2"
   ]
  },
  {
   "cell_type": "markdown",
   "metadata": {},
   "source": [
    "### Specify everything in config.py and then go below"
   ]
  },
  {
   "cell_type": "markdown",
   "metadata": {},
   "source": [
    "##### If you are running experiments on a laptop, it's better to use small number of workers"
   ]
  },
  {
   "cell_type": "code",
   "execution_count": null,
   "metadata": {},
   "outputs": [],
   "source": [
    "!python generate_data.py"
   ]
  },
  {
   "cell_type": "code",
   "execution_count": null,
   "metadata": {
    "collapsed": true
   },
   "outputs": [],
   "source": [
    "import config\n",
    "from config import datasets_path, scripts_path, dataset, n_workers, big_regularization, use_local_data, scripts_path, logs_path\n",
    "\n",
    "data_path = '{}/data'.format(scripts_path)\n",
    "zero_based = {'mushrooms': False}\n",
    "\n",
    "data = load_svmlight_file('{}/{}'.format(datasets_path, dataset), zero_based=zero_based.get(dataset, 'auto'))\n",
    "l1 = 0 # We don't care about prox\n",
    "X, y = data[0].toarray(), data[1]\n",
    "if 2 in y:\n",
    "    y[y == 2] = -1\n",
    "n, d = X.shape\n",
    "L = 0.25 * np.max(np.sum(np.square(X), axis=1))\n",
    "data_info = np.load('{}/data/data_info.npy'.format(scripts_path))\n",
    "Ls = data_info[4:]\n",
    "l2 = np.mean(Ls) / n"
   ]
  },
  {
   "cell_type": "code",
   "execution_count": null,
   "metadata": {
    "collapsed": true
   },
   "outputs": [],
   "source": [
    "def logreg_loss(w, X, y, l2):\n",
    "    assert l2 >= 0\n",
    "    assert len(y) == X.shape[0]\n",
    "    assert len(w) == X.shape[1]\n",
    "    l = np.log(1 + np.exp(-X.dot(w) * y))\n",
    "    m = y.shape[0]\n",
    "    return np.sum(l) / m + l2/2 * la.norm(w) ** 2\n",
    "\n",
    "def r(x, l1):\n",
    "    return l1 * la.norm(x, ord = 1)\n",
    "\n",
    "def F(w, X, y, l2, l1=0):\n",
    "    assert ((y.shape[0] == X.shape[0]) & (w.shape[0] == X.shape[1]))\n",
    "    assert ((l2 >= 0) & (l1 >= 0))\n",
    "    return logreg_loss(w, X, y, l2) + r(w, l1)"
   ]
  },
  {
   "cell_type": "code",
   "execution_count": null,
   "metadata": {},
   "outputs": [],
   "source": [
    "w_star, ws_star = get_solution(X, y, L, l2=l2, data_path=data_path, dataset=dataset, \n",
    "                               big_regularization=big_regularization, recompute=True)\n",
    "losses_svrg = [F(w, X, y, l2=l2, l1=l1) for w in ws_star]\n",
    "plt.plot(losses_svrg - np.min(losses_svrg))\n",
    "plt.yscale('log')\n",
    "f_min = F(w_star, X, y, l2=l2, l1=l1)\n",
    "f_min"
   ]
  },
  {
   "cell_type": "markdown",
   "metadata": {},
   "source": [
    "## Run local GD with 1 / (L * H)"
   ]
  },
  {
   "cell_type": "code",
   "execution_count": null,
   "metadata": {},
   "outputs": [],
   "source": [
    "for H in [1, 10, 100]:\n",
    "    lr0s = [1 / H] # lr0=a translates to a/L\n",
    "    lr_decays = [0]\n",
    "    batches = [0]\n",
    "    local_steps = [H]\n",
    "    it_max = 0\n",
    "    t_max = H\n",
    "    run_local_sgd(n_workers, scripts_path, it_max, t_max, batches, lr0s, lr_decays, local_steps)"
   ]
  },
  {
   "cell_type": "code",
   "execution_count": null,
   "metadata": {},
   "outputs": [],
   "source": [
    "plt.figure(figsize=(9, 6))\n",
    "for H in [1, 10, 100]:\n",
    "    lr0s = [1 / H]\n",
    "    local_steps = [H]\n",
    "    for params in itertools.product(batches, lr0s, lr_decays, local_steps):\n",
    "        batch, lr0, lr_decay, local = params\n",
    "        ws, loss, its, ts = read_logs(batch, lr0, lr_decay, local, big_regularization, use_local_data, logs_path)\n",
    "                label = '1 local step' if H == 1 else '{} local steps'.format(local)\n",
    "        plt.plot(its, loss - f_min, label=label)\n",
    "plt.yscale('log')\n",
    "plt.xlabel('Communication rounds')\n",
    "plt.ylabel('$f(x) - f^*$')\n",
    "plt.legend()\n",
    "plt.tight_layout()"
   ]
  },
  {
   "cell_type": "code",
   "execution_count": null,
   "metadata": {},
   "outputs": [],
   "source": [
    "plt.figure(figsize=(9, 6))\n",
    "for H in [1, 10, 100]:\n",
    "    lr0s = [1 / H]\n",
    "    local_steps = [H]\n",
    "    for params in itertools.product(batches, lr0s, lr_decays, local_steps):\n",
    "        batch, lr0, lr_decay, local = params\n",
    "        ws, loss, its, ts = read_logs(batch, lr0, lr_decay, local, big_regularization, use_local_data, logs_path)\n",
    "        label = '1 local step' if H == 1 else '{} local steps'.format(local)\n",
    "        plt.plot(ts, loss - f_min, label=label)\n",
    "plt.yscale('log')\n",
    "plt.xlabel('Time, seconds')\n",
    "plt.ylabel('$f(x) - f^*$')\n",
    "plt.legend()\n",
    "plt.tight_layout()"
   ]
  },
  {
   "cell_type": "markdown",
   "metadata": {},
   "source": [
    "## Run local GD with step 1 / L"
   ]
  },
  {
   "cell_type": "code",
   "execution_count": null,
   "metadata": {},
   "outputs": [],
   "source": [
    "from np_functions import logreg_grad\n",
    "step = len(y) // n_workers\n",
    "np.mean([la.norm(logreg_grad(w_star, X[step * i: step * (i+1)], y[step * i: step * (i+1)], l2)) ** 2 for i in range(n_workers)])"
   ]
  },
  {
   "cell_type": "code",
   "execution_count": null,
   "metadata": {},
   "outputs": [],
   "source": [
    "Hs = [1, 2, 4, 8, 16, 32]\n",
    "for H in Hs:\n",
    "    lr0s = [1] # lr0=a translates to a/L\n",
    "    lr_decays = [0]\n",
    "    batches = [0]\n",
    "    local_steps = [H]\n",
    "    it_max = 25000\n",
    "    t_max = 0\n",
    "    run_local_sgd(n_workers, scripts_path, it_max, t_max, batches, lr0s, lr_decays, local_steps)"
   ]
  },
  {
   "cell_type": "code",
   "execution_count": null,
   "metadata": {},
   "outputs": [],
   "source": [
    "plt.figure(figsize=(9, 6))\n",
    "last_loss = []\n",
    "markers = [',', 'o', '*', 'x', 'd', 'D']\n",
    "mv = 10\n",
    "for H, marker in zip(Hs, markers):\n",
    "    lr0s = [1]\n",
    "    local_steps = [H]\n",
    "    for params in itertools.product(batches, lr0s, lr_decays, local_steps):\n",
    "        batch, lr0, lr_decay, local = params\n",
    "        ws, loss, its, ts = read_logs(batch, lr0, lr_decay, local, big_regularization, use_local_data, logs_path)\n",
    "        label = '1 local step' if H == 1 else '{} local steps'.format(local)\n",
    "        plt.plot(its, loss - f_min, label=label, marker=marker, markevery=mv * 2)\n",
    "    if H != 1:\n",
    "        last_loss.append(loss[-1] - f_min)\n",
    "plt.yscale('log')\n",
    "plt.xlabel('Communication rounds')\n",
    "plt.ylabel('$f(x) - f^*$')\n",
    "plt.legend()\n",
    "plt.tight_layout()\n",
    "plt.savefig('../plots/local_sgd/gd_a5a_dif_H_same_lr_rounds.pdf', dpi=300)"
   ]
  },
  {
   "cell_type": "code",
   "execution_count": null,
   "metadata": {},
   "outputs": [],
   "source": [
    "plt.figure(figsize=(9, 6))\n",
    "for H, marker in zip(Hs, markers):\n",
    "    lr0s = [1]\n",
    "    local_steps = [H]\n",
    "    for params in itertools.product(batches, lr0s, lr_decays, local_steps):\n",
    "        batch, lr0, lr_decay, local = params\n",
    "        ws, loss, its, ts = read_logs(batch, lr0, lr_decay, local, big_regularization, use_local_data, logs_path)\n",
    "        label = '1 local step' if H == 1 else '{} local steps'.format(local)\n",
    "        idx = ts < 115\n",
    "        plt.plot(ts[idx], loss[idx] - f_min, label=label, marker=marker, markevery=4 * max(1, (2 * mv) // H))\n",
    "plt.yscale('log')\n",
    "plt.xlabel('Time, seconds')\n",
    "plt.xlim(-5, 120)\n",
    "plt.ylabel('$f(x) - f^*$')\n",
    "plt.legend()\n",
    "plt.tight_layout()\n",
    "plt.savefig('../plots/local_sgd/gd_a5a_dif_H_same_lr_time.pdf', dpi=300)"
   ]
  },
  {
   "cell_type": "code",
   "execution_count": null,
   "metadata": {},
   "outputs": [],
   "source": [
    "plt.figure(figsize=(9, 6))\n",
    "our_comm_time_to_all_time = 0.307 # from the output file\n",
    "our_ratio = our_comm_time_to_all_time / (1 - our_comm_time_to_all_time)\n",
    "ratios = np.linspace(0, our_ratio * 3, 100)\n",
    "epsilon = 1e-4\n",
    "for H, marker in zip(Hs, markers):\n",
    "    lr0s = [1]\n",
    "    local_steps = [H]\n",
    "    for params in itertools.product(batches, lr0s, lr_decays, local_steps):\n",
    "        batch, lr0, lr_decay, local = params\n",
    "        ws, loss, its, ts = read_logs(batch, lr0, lr_decay, local, big_regularization, use_local_data, logs_path)\n",
    "        label = '1 local step' if H == 1 else '{} local steps'.format(local)\n",
    "#         plt.plot(ts, loss - f_min, label=label, marker=marker, markevery=5 * max(1, mv // H))\n",
    "        t_epsilon = ts[np.argmax(loss - f_min < epsilon) + 1] # t_comm + H * t_gr\n",
    "        time_per_gradient = t_epsilon / (H + our_ratio) # t_gr = (t_comm + H * t_gr) / (t_comm/t_gr + H)\n",
    "        ts_epsilon = [time_per_gradient * (H + r) for r in ratios]\n",
    "        plt.plot(ratios, ts_epsilon, label=label, marker=marker, markevery=mv)\n",
    "# plt.yscale('log')\n",
    "plt.axvline(x=our_ratio, label='Our system', color='black')\n",
    "plt.xlabel(r'$T_{communication}/T_{computation}$')\n",
    "# plt.xlim(-5, 120)\n",
    "plt.ylabel('Time to accuracy $10^{-4}$')\n",
    "plt.legend()\n",
    "plt.tight_layout()\n",
    "# plt.savefig('../plots/local_sgd/gd_a5a_dif_H_dif_ratio.pdf', dpi=300)"
   ]
  },
  {
   "cell_type": "code",
   "execution_count": null,
   "metadata": {
    "collapsed": true
   },
   "outputs": [],
   "source": []
  },
  {
   "cell_type": "code",
   "execution_count": null,
   "metadata": {
    "collapsed": true
   },
   "outputs": [],
   "source": []
  },
  {
   "cell_type": "code",
   "execution_count": null,
   "metadata": {
    "collapsed": true
   },
   "outputs": [],
   "source": []
  },
  {
   "cell_type": "code",
   "execution_count": null,
   "metadata": {
    "collapsed": true
   },
   "outputs": [],
   "source": []
  },
  {
   "cell_type": "code",
   "execution_count": null,
   "metadata": {
    "collapsed": true
   },
   "outputs": [],
   "source": []
  },
  {
   "cell_type": "code",
   "execution_count": null,
   "metadata": {
    "collapsed": true
   },
   "outputs": [],
   "source": []
  },
  {
   "cell_type": "code",
   "execution_count": null,
   "metadata": {
    "collapsed": true
   },
   "outputs": [],
   "source": []
  },
  {
   "cell_type": "code",
   "execution_count": null,
   "metadata": {
    "collapsed": true
   },
   "outputs": [],
   "source": []
  },
  {
   "cell_type": "markdown",
   "metadata": {},
   "source": [
    "## Run local GD with $1 / (L  \\sqrt{H}$)"
   ]
  },
  {
   "cell_type": "code",
   "execution_count": 50,
   "metadata": {},
   "outputs": [
    {
     "name": "stdout",
     "output_type": "stream",
     "text": [
      "###"
     ]
    }
   ],
   "source": [
    "for H in [1, 10, 100]:\n",
    "    lr0s = [1 / np.sqrt(H)] # lr0=a translates to a/Lw\n",
    "    lr_decays = [0]\n",
    "    batches = [0]\n",
    "    local_steps = [H]\n",
    "    it_max = 0\n",
    "    t_max = 300 if H > 1 else 100\n",
    "    run_local_sgd(n_workers, scripts_path, it_max, t_max, batches, lr0s, lr_decays, local_steps)"
   ]
  },
  {
   "cell_type": "code",
   "execution_count": 51,
   "metadata": {},
   "outputs": [
    {
     "data": {
      "text/plain": [
       "<matplotlib.legend.Legend at 0x2ad69403ce48>"
      ]
     },
     "execution_count": 51,
     "metadata": {},
     "output_type": "execute_result"
    },
    {
     "data": {
      "image/png": "[encoded data removed]",
      "text/plain": [
       "<Figure size 432x288 with 1 Axes>"
      ]
     },
     "metadata": {
      "needs_background": "light"
     },
     "output_type": "display_data"
    }
   ],
   "source": [
    "plt.figure(figsize=(9, 6))\n",
    "for H in [1, 10, 100]:\n",
    "    lr0s = [1 / np.sqrt(H)]\n",
    "    local_steps = [H]\n",
    "    for params in itertools.product(batches, lr0s, lr_decays, local_steps):\n",
    "        batch, lr0, lr_decay, local = params\n",
    "        ws, loss, its, ts = read_logs(batch, lr0, lr_decay, local, big_regularization, use_local_data, logs_path)\n",
    "        label = 'Gradient descent' if H == 1 else '{} local steps'.format(local)\n",
    "        plt.plot(its, loss - f_min, label='Local steps {}'.format(local))\n",
    "plt.yscale('log')\n",
    "plt.xlabel('Communication rounds')\n",
    "plt.ylabel('$f(x) - f^*$')\n",
    "plt.legend()\n",
    "plt.tight_layout()"
   ]
  },
  {
   "cell_type": "code",
   "execution_count": 52,
   "metadata": {},
   "outputs": [
    {
     "data": {
      "text/plain": [
       "<matplotlib.legend.Legend at 0x2ad68e5902e8>"
      ]
     },
     "execution_count": 52,
     "metadata": {},
     "output_type": "execute_result"
    },
    {
     "data": {
      "image/png": "[encoded data removed]",
      "text/plain": [
       "<Figure size 432x288 with 1 Axes>"
      ]
     },
     "metadata": {
      "needs_background": "light"
     },
     "output_type": "display_data"
    }
   ],
   "source": [
    "plt.figure(figsize=(9, 6))\n",
    "for H in [1, 10, 100]:\n",
    "    lr0s = [1 / np.sqrt(H)]\n",
    "    local_steps = [H]\n",
    "    for params in itertools.product(batches, lr0s, lr_decays, local_steps):\n",
    "        batch, lr0, lr_decay, local = params\n",
    "        ws, loss, its, ts = read_logs(batch, lr0, lr_decay, local, big_regularization, use_local_data, logs_path)\n",
    "        label = 'Gradient descent' if H == 1 else '{} local steps'.format(local)\n",
    "        plt.plot(ts, loss - f_min, label='Local steps {}'.format(local))\n",
    "plt.yscale('log')\n",
    "plt.xlabel('Time, seconds')\n",
    "plt.ylabel('$f(x) - f^*$')\n",
    "plt.legend()\n",
    "plt.tight_layout()"
   ]
  },
  {
   "cell_type": "code",
   "execution_count": null,
   "metadata": {
    "collapsed": true
   },
   "outputs": [],
   "source": []
  },
  {
   "cell_type": "code",
   "execution_count": null,
   "metadata": {
    "collapsed": true
   },
   "outputs": [],
   "source": []
  },
  {
   "cell_type": "code",
   "execution_count": null,
   "metadata": {
    "collapsed": true
   },
   "outputs": [],
   "source": []
  },
  {
   "cell_type": "code",
   "execution_count": null,
   "metadata": {
    "collapsed": true
   },
   "outputs": [],
   "source": []
  },
  {
   "cell_type": "code",
   "execution_count": null,
   "metadata": {
    "collapsed": true
   },
   "outputs": [],
   "source": []
  },
  {
   "cell_type": "code",
   "execution_count": null,
   "metadata": {
    "collapsed": true
   },
   "outputs": [],
   "source": []
  }
 ],
 "metadata": {
  "kernelspec": {
   "display_name": "Python 3",
   "language": "python",
   "name": "python3"
  },
  "language_info": {
   "codemirror_mode": {
    "name": "ipython",
    "version": 3
   },
   "file_extension": ".py",
   "mimetype": "text/x-python",
   "name": "python",
   "nbconvert_exporter": "python",
   "pygments_lexer": "ipython3",
   "version": "3.6.3"
  }
 },
 "nbformat": 4,
 "nbformat_minor": 2
}
